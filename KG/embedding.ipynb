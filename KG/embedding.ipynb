{
 "cells": [
  {
   "cell_type": "code",
   "execution_count": 1,
   "id": "45445f7e",
   "metadata": {},
   "outputs": [],
   "source": [
    "# from transformers import AutoTokenizer, AutoModel\n",
    "# import torch\n",
    "# import numpy as np\n",
    "\n",
    "# device = \"cuda\" if torch.cuda.is_available() else \"cpu\"\n",
    "\n",
    "# model_name = \"NVIDIA/nv-embed-v2\"\n",
    "\n",
    "# tokenizer = AutoTokenizer.from_pretrained(model_name)\n",
    "# model = AutoModel.from_pretrained(model_name, trust_remote_code=True)\n",
    "# model.to(device)\n",
    "# model.eval()\n"
   ]
  },
  {
   "cell_type": "markdown",
   "id": "5c6edec8",
   "metadata": {},
   "source": [
    "Hàm chuẩn hóa lại các node"
   ]
  },
  {
   "cell_type": "code",
   "execution_count": 1,
   "id": "62035448",
   "metadata": {},
   "outputs": [],
   "source": [
    "def format_node_text(node_name: str, node_type: str) -> str:\n",
    "    raw = node_name.replace(f\"{node_type}_\", \"\").replace(\"_\", \" \")\n",
    "    if node_type == \"skill\":\n",
    "        return f\"skill: {raw}\"\n",
    "    elif node_type == \"domain\":\n",
    "        return f\"domain: {raw}\"\n",
    "    elif node_type == \"position\":\n",
    "        return f\"job position: {raw}\"\n",
    "    elif node_type == \"job_title\":\n",
    "        return f\"job title: {raw}\"\n",
    "    else:\n",
    "        return raw\n"
   ]
  },
  {
   "cell_type": "code",
   "execution_count": 2,
   "id": "847fc2ae",
   "metadata": {},
   "outputs": [
    {
     "name": "stderr",
     "output_type": "stream",
     "text": [
      "e:\\Spring Semester 2025\\DWH&DM\\DM\\recomendation\\venv\\Lib\\site-packages\\tqdm\\auto.py:21: TqdmWarning: IProgress not found. Please update jupyter and ipywidgets. See https://ipywidgets.readthedocs.io/en/stable/user_install.html\n",
      "  from .autonotebook import tqdm as notebook_tqdm\n"
     ]
    }
   ],
   "source": [
    "from sentence_transformers import SentenceTransformer\n",
    "model = SentenceTransformer('sentence-transformers/all-MiniLM-L12-v2')"
   ]
  },
  {
   "cell_type": "markdown",
   "id": "36970f38",
   "metadata": {},
   "source": [
    "emdedding các loại node skill, domain, position, job_title"
   ]
  },
  {
   "cell_type": "code",
   "execution_count": 5,
   "id": "6ae6873d",
   "metadata": {},
   "outputs": [
    {
     "name": "stderr",
     "output_type": "stream",
     "text": [
      "Embedding nodes: 100%|██████████| 36/36 [00:01<00:00, 34.00it/s]\n"
     ]
    }
   ],
   "source": [
    "import mysql.connector\n",
    "import numpy as np\n",
    "from tqdm import tqdm\n",
    "\n",
    "# Kết nối tới MySQL\n",
    "conn = mysql.connector.connect(\n",
    "    host='localhost',\n",
    "    user='root',\n",
    "    password='231123',\n",
    "    database='cv'\n",
    ")\n",
    "cur = conn.cursor()\n",
    "\n",
    "# Các loại node cần embedding\n",
    "target_types = (\"skill\", \"domain\", \"position\", \"job_title\")\n",
    "placeholders = ', '.join(['%s'] * len(target_types))\n",
    "query = f\"SELECT id, node_name, node_type FROM nodes WHERE node_type IN ({placeholders}) order by id LIMIT 15000,10000\"\n",
    "cur.execute(query, target_types)\n",
    "rows = cur.fetchall()\n",
    "# print(rows)\n",
    "node_embeddings = {}\n",
    "\n",
    "for node_id, node_name, node_type in tqdm(rows, desc=\"Embedding nodes\"):\n",
    "    try:\n",
    "        text = format_node_text(node_name, node_type)\n",
    "        emb = model.encode(text, normalize_embeddings=True)\n",
    "        blob = emb.astype(np.float32).tobytes()\n",
    "\n",
    "        # Cập nhật embedding vào bảng nodes\n",
    "        cur.execute(\"\"\"\n",
    "            UPDATE nodes\n",
    "            SET embedding = %s\n",
    "            WHERE id = %s\n",
    "        \"\"\", (blob, node_id))\n",
    "\n",
    "    except Exception as e:\n",
    "        print(f\"❌ Lỗi tại node {node_name}: {e}\")\n",
    "\n",
    "conn.commit()\n",
    "cur.close()\n",
    "conn.close()\n",
    "\n"
   ]
  },
  {
   "cell_type": "code",
   "execution_count": null,
   "id": "104a2c8b",
   "metadata": {},
   "outputs": [
    {
     "name": "stdout",
     "output_type": "stream",
     "text": [
      "✅ Vector embedding có kích thước: (384,)\n"
     ]
    }
   ],
   "source": [
    "# import mysql.connector\n",
    "# import numpy as np\n",
    "\n",
    "# # Kết nối tới MySQL\n",
    "# conn = mysql.connector.connect(\n",
    "#     host='localhost',\n",
    "#     user='root',\n",
    "#     password='231123',\n",
    "#     database='cv'\n",
    "# )\n",
    "# cur = conn.cursor()\n",
    "\n",
    "# # Đọc embedding của 1 node bất kỳ (ví dụ node có id = 2022)\n",
    "# node_id = 3\n",
    "# cur.execute(\"SELECT embedding FROM nodes WHERE id = %s\", (node_id,))\n",
    "# result = cur.fetchone()\n",
    "\n",
    "# if result and result[0] is not None:\n",
    "#     blob = result[0]\n",
    "#     emb = np.frombuffer(blob, dtype=np.float32)\n",
    "#     print(f\"✅ Vector embedding có kích thước: {emb.shape}\")\n",
    "# else:\n",
    "#     print(\"⚠️ Không tìm thấy embedding cho node với ID:\", node_id)\n",
    "\n",
    "# cur.close()\n",
    "# conn.close()\n"
   ]
  },
  {
   "cell_type": "markdown",
   "id": "640cd9be",
   "metadata": {},
   "source": [
    "embedding các quan hệ"
   ]
  },
  {
   "cell_type": "code",
   "execution_count": 6,
   "id": "e567a7a3",
   "metadata": {},
   "outputs": [
    {
     "name": "stderr",
     "output_type": "stream",
     "text": [
      "Embedding relations: 100%|██████████| 6/6 [00:00<00:00, 43.48it/s]\n"
     ]
    }
   ],
   "source": [
    "import mysql.connector\n",
    "import numpy as np\n",
    "from sentence_transformers import SentenceTransformer\n",
    "from tqdm import tqdm\n",
    "\n",
    "# Hàm chuẩn hóa tên quan hệ\n",
    "def format_relation_text(relation_name: str) -> str:\n",
    "    return \"relation: \" + relation_name.replace(\"_\", \" \").lower()\n",
    "\n",
    "\n",
    "# Kết nối MySQL\n",
    "conn = mysql.connector.connect(\n",
    "    host='localhost',\n",
    "    user='root',\n",
    "    password='231123',\n",
    "    database='cv'\n",
    ")\n",
    "cur = conn.cursor()\n",
    "\n",
    "# Đọc tất cả relations\n",
    "cur.execute(\"SELECT id, relation_name FROM relations ORDER BY id\")\n",
    "rows = cur.fetchall()\n",
    "\n",
    "for rel_id, rel_name in tqdm(rows, desc=\"Embedding relations\"):\n",
    "    try:\n",
    "        text = format_relation_text(rel_name)\n",
    "        emb = model.encode(text, normalize_embeddings=True)\n",
    "        blob = emb.astype(np.float32).tobytes()\n",
    "\n",
    "        # Cập nhật embedding vào bảng relations\n",
    "        cur.execute(\"\"\"\n",
    "            UPDATE relations\n",
    "            SET embedding = %s\n",
    "            WHERE id = %s\n",
    "        \"\"\", (blob, rel_id))\n",
    "\n",
    "    except Exception as e:\n",
    "        print(f\"❌ Lỗi tại relation {rel_name}: {e}\")\n",
    "\n",
    "conn.commit()\n",
    "cur.close()\n",
    "conn.close()\n"
   ]
  },
  {
   "cell_type": "code",
   "execution_count": 5,
   "id": "7faf9d6c",
   "metadata": {},
   "outputs": [
    {
     "name": "stdout",
     "output_type": "stream",
     "text": [
      "✅ Vector quan hệ: (384,)\n"
     ]
    }
   ],
   "source": [
    "import mysql.connector\n",
    "import numpy as np\n",
    "from sentence_transformers import SentenceTransformer\n",
    "from tqdm import tqdm\n",
    "\n",
    "# Hàm chuẩn hóa tên quan hệ\n",
    "def format_relation_text(relation_name: str) -> str:\n",
    "    return \"relation: \" + relation_name.replace(\"_\", \" \").lower()\n",
    "\n",
    "# Khởi tạo model LLM\n",
    "model = SentenceTransformer('sentence-transformers/all-MiniLM-L12-v2')\n",
    "\n",
    "# Kết nối MySQL\n",
    "conn = mysql.connector.connect(\n",
    "    host='localhost',\n",
    "    user='root',\n",
    "    password='231123',\n",
    "    database='cv'\n",
    ")\n",
    "cur = conn.cursor()\n",
    "cur.execute(\"SELECT embedding FROM relations WHERE id = %s\", (1,))\n",
    "result = cur.fetchone()\n",
    "if result and result[0]:\n",
    "    vec = np.frombuffer(result[0], dtype=np.float32)\n",
    "    print(\"✅ Vector quan hệ:\", vec.shape)\n",
    "else:\n",
    "    print(\"⚠️ Không có embedding.\")\n"
   ]
  },
  {
   "cell_type": "markdown",
   "id": "2ea5004b",
   "metadata": {},
   "source": [
    "embedding cho các node candidate "
   ]
  },
  {
   "cell_type": "code",
   "execution_count": 7,
   "id": "cc638ed7",
   "metadata": {},
   "outputs": [
    {
     "name": "stderr",
     "output_type": "stream",
     "text": [
      "Processing candidates: 100%|██████████| 987/987 [01:55<00:00,  8.52it/s]\n"
     ]
    }
   ],
   "source": [
    "import mysql.connector\n",
    "from tqdm import tqdm\n",
    "\n",
    "# Kết nối tới MySQL\n",
    "conn = mysql.connector.connect(\n",
    "    host='localhost',\n",
    "    user='root',\n",
    "    password='231123',\n",
    "    database='cv'\n",
    ")\n",
    "cur = conn.cursor(dictionary=True)\n",
    "\n",
    "# 1. Lấy danh sách candidate_id từ bảng nodes\n",
    "cur.execute(\"SELECT node_name FROM nodes WHERE node_type = 'candidate'\")\n",
    "candidate_ids = [row['node_name'].replace('candidate_', '', 1) for row in cur.fetchall()]\n",
    "\n",
    "# 2. Với mỗi candidate_id, lấy thông tin từ bảng candidate và experience\n",
    "for cid in tqdm(candidate_ids, desc=\"Processing candidates\"):\n",
    "    # Lấy thông tin cơ bản từ bảng candidate\n",
    "    cur.execute(\"SELECT * FROM candidate WHERE candidate_id = %s\", (cid,))\n",
    "    candidate_info = cur.fetchone()\n",
    "    \n",
    "    if not candidate_info:\n",
    "        continue  # Nếu không có thông tin, bỏ qua\n",
    "\n",
    "    # Lấy các kinh nghiệm từ bảng experience\n",
    "    cur.execute(\"SELECT * FROM experience WHERE candidate_id = %s\", (cid,))\n",
    "    experiences = cur.fetchall()\n",
    "\n",
    "    # 3. Generate candidate description in English\n",
    "    desc = \"\"\n",
    "    if candidate_info['position_title'] != None and len(candidate_info['position_title']) > 0:\n",
    "        desc += f\"The candidate is applying for the position of {candidate_info['position_title']},\"\n",
    "    if candidate_info['domain_area'] != None and len(candidate_info['domain_area']) > 0:\n",
    "        desc += f\" with expertise in the field of {candidate_info['domain_area']}.\"\n",
    "    if candidate_info['skill'] != None and len(candidate_info['skill']) > 0:\n",
    "        desc += f\" General skills include: {candidate_info['skill']}.\"\n",
    "    if experiences:\n",
    "        desc += \" Work experience: \"\n",
    "        for exp in experiences:\n",
    "            \n",
    "            if exp['title'] != None and len(exp['title']) > 0:\n",
    "                desc += f\"{exp['title']}\"\n",
    "            if exp['skill'] != None and len(exp['skill']) > 0:\n",
    "                desc +=  f\" using the skill {exp['skill']}\"\n",
    "            if exp['years_experience'] != None:\n",
    "                desc += f\" for {exp['years_experience']} years. \"\n",
    "\n",
    "    # print(cid, desc)\n",
    "    # 4. Tính embedding\n",
    "    embedding = model.encode(desc, normalize_embeddings=True)\n",
    "\n",
    "    blob = embedding.astype(np.float32).tobytes()\n",
    "    tmp = \"candidate_\"+cid\n",
    "    # 5. Cập nhật embedding vào bảng nodes\n",
    "    update_sql = \"UPDATE nodes SET embedding = %s WHERE node_name = %s\"\n",
    "    cur.execute(update_sql, (blob, tmp))\n",
    "    conn.commit()  # cần commit để lưu thay đổi\n",
    "\n",
    "# Đóng kết nối\n",
    "cur.close()\n",
    "conn.close()\n"
   ]
  },
  {
   "cell_type": "code",
   "execution_count": 5,
   "id": "a25a6f1a",
   "metadata": {},
   "outputs": [
    {
     "name": "stdout",
     "output_type": "stream",
     "text": [
      "Top 5 most similar candidates:\n",
      "candidate_maarten-koole-a1640210 — similarity: 0.2959\n",
      "candidate_xun-jia-8602655 — similarity: 0.2954\n",
      "candidate_megane-guegan-a584a3193 — similarity: 0.2849\n",
      "candidate_robertosterstatistics — similarity: 0.2816\n",
      "candidate_john-pandolfino-67534919 — similarity: 0.2746\n"
     ]
    }
   ],
   "source": [
    "import mysql.connector\n",
    "import numpy as np\n",
    "from sklearn.metrics.pairwise import cosine_similarity\n",
    "from sentence_transformers import SentenceTransformer\n",
    "\n",
    "# Load model\n",
    "model = SentenceTransformer('sentence-transformers/all-MiniLM-L6-v2')\n",
    "\n",
    "# Tạo mô tả ứng viên mới trong lĩnh vực y tế\n",
    "desc = \"\"\"\n",
    "We are seeking a Medical Specialist with expertise in healthcare. The ideal candidate should have at least 5 years of experience as an Emergency Doctor with strong triage skills, and 3 years of experience as a Surgeon specializing in laparoscopic surgery. General skills required include emergency care, surgery, and patient management, along with the ability to perform effectively in high-pressure situations.\n",
    "\"\"\"\n",
    "\n",
    "# Tính embedding cho ứng viên mới\n",
    "query_vec = model.encode(desc, normalize_embeddings=True)\n",
    "\n",
    "# Kết nối DB\n",
    "conn = mysql.connector.connect(\n",
    "    host='localhost',\n",
    "    user='root',\n",
    "    password='231123',\n",
    "    database='cv'\n",
    ")\n",
    "cur = conn.cursor()\n",
    "\n",
    "# Truy vấn embedding từ DB\n",
    "cur.execute(\"SELECT node_name, embedding FROM nodes WHERE node_type = 'candidate' AND embedding IS NOT NULL\")\n",
    "rows = cur.fetchall()\n",
    "\n",
    "# Danh sách tên và embeddings\n",
    "names = []\n",
    "vectors = []\n",
    "\n",
    "for name, blob in rows:\n",
    "    emb = np.frombuffer(blob, dtype=np.float32)\n",
    "    names.append(name)\n",
    "    vectors.append(emb)\n",
    "\n",
    "vectors = np.vstack(vectors)  # convert to matrix\n",
    "\n",
    "# Tính cosine similarity\n",
    "similarities = cosine_similarity([query_vec], vectors)[0]\n",
    "\n",
    "# Lấy 5 người giống nhất\n",
    "top_indices = similarities.argsort()[-5:][::-1]\n",
    "\n",
    "print(\"Top 5 most similar candidates:\")\n",
    "for i in top_indices:\n",
    "    print(f\"{names[i]} — similarity: {similarities[i]:.4f}\")\n",
    "\n",
    "# Đóng kết nối\n",
    "cur.close()\n",
    "conn.close()\n"
   ]
  },
  {
   "cell_type": "markdown",
   "id": "394cf19f",
   "metadata": {},
   "source": [
    "embedding cho job"
   ]
  },
  {
   "cell_type": "code",
   "execution_count": 8,
   "id": "dd10a354",
   "metadata": {},
   "outputs": [
    {
     "name": "stderr",
     "output_type": "stream",
     "text": [
      "100%|██████████| 3241/3241 [02:59<00:00, 18.08it/s]\n"
     ]
    }
   ],
   "source": [
    "import mysql.connector\n",
    "from tqdm import tqdm\n",
    "import numpy as np\n",
    "\n",
    "# Connect to MySQL\n",
    "conn = mysql.connector.connect(\n",
    "    host='localhost',\n",
    "    user='root',\n",
    "    password='231123',\n",
    "    database='cv'\n",
    ")\n",
    "cur = conn.cursor(dictionary=True)\n",
    "\n",
    "# Fetch data from all tables\n",
    "cur.execute(\"SELECT * FROM nodes\")\n",
    "nodes = cur.fetchall()\n",
    "\n",
    "cur.execute(\"SELECT * FROM relations\")\n",
    "relations = cur.fetchall()\n",
    "\n",
    "cur.execute(\"SELECT * FROM edges\")\n",
    "edges = cur.fetchall()\n",
    "\n",
    "\n",
    "\n",
    "# Create quick lookup dictionaries\n",
    "node_dict = {node['id']: node for node in nodes}\n",
    "relation_dict = {r['id']: r['relation_name'] for r in relations}\n",
    "\n",
    "# Get specific relation IDs\n",
    "HAS_TITLE_ID = next((r['id'] for r in relations if r['relation_name'] == 'HAS_TITLE'), None)\n",
    "REQUIRES_SKILL_ID = next((r['id'] for r in relations if r['relation_name'] == 'REQUIRES_SKILL'), None)\n",
    "\n",
    "# Filter job nodes\n",
    "job_nodes = [n for n in nodes if n['node_type'] == 'job']\n",
    "\n",
    "\n",
    "for job in tqdm(job_nodes):\n",
    "    job_id = job['id']\n",
    "\n",
    "    # Get job title via HAS_TITLE\n",
    "    job_title = None\n",
    "    for edge in edges:\n",
    "        if edge['head_node_id'] == job_id and edge['relation_id'] == HAS_TITLE_ID:\n",
    "            title_node = node_dict.get(edge['tail_node_id'])\n",
    "            if title_node and title_node['node_type'] == 'job_title':\n",
    "                job_title = title_node['node_name'].replace('_', ' ').title()\n",
    "                break\n",
    "\n",
    "    # Fallback: use node_name if no title found\n",
    "    if not job_title:\n",
    "        job_title = job['node_name'].replace('job_', '').replace('_', ' ').title()\n",
    "\n",
    "    # Get required skills via REQUIRES_SKILL\n",
    "    required_skills = []\n",
    "    for edge in edges:\n",
    "        if edge['head_node_id'] == job_id and edge['relation_id'] == REQUIRES_SKILL_ID:\n",
    "            skill_node = node_dict.get(edge['tail_node_id'])\n",
    "            if skill_node and skill_node['node_type'] == 'skill':\n",
    "                skill_name = skill_node['node_name'].replace('skill_', '').replace('_', ' ').title()\n",
    "                required_skills.append(skill_name)\n",
    "\n",
    "    # Print job description\n",
    "    if required_skills:\n",
    "        text = f\"The job has {job_title.lower()} requires the following skills: {', '.join(required_skills)}.\"\n",
    "    else:\n",
    "        text = f\"The job has {job_title.lower()} has no listed required skills.\"\n",
    "    \n",
    "    embedding = model.encode(text, normalize_embeddings=True)\n",
    "    blob = embedding.astype(np.float32).tobytes()\n",
    "    \n",
    "    # 5. Cập nhật embedding vào bảng nodes\n",
    "    update_sql = \"UPDATE nodes SET embedding = %s WHERE id = %s\"\n",
    "    cur.execute(update_sql, (blob, job_id))\n",
    "    conn.commit()  # cần commit để lưu thay đổi\n",
    "\n",
    "# Đóng kết nối\n",
    "cur.close()\n",
    "conn.close()\n",
    "\n",
    "\n"
   ]
  }
 ],
 "metadata": {
  "kernelspec": {
   "display_name": "venv",
   "language": "python",
   "name": "python3"
  },
  "language_info": {
   "codemirror_mode": {
    "name": "ipython",
    "version": 3
   },
   "file_extension": ".py",
   "mimetype": "text/x-python",
   "name": "python",
   "nbconvert_exporter": "python",
   "pygments_lexer": "ipython3",
   "version": "3.12.3"
  }
 },
 "nbformat": 4,
 "nbformat_minor": 5
}
