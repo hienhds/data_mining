{
 "cells": [
  {
   "cell_type": "code",
   "execution_count": 4,
   "id": "c916c114",
   "metadata": {},
   "outputs": [],
   "source": [
    "import torch\n",
    "import torch.nn as nn\n",
    "import torch.nn.functional as F\n",
    "\n",
    "class CompGCNLayer(nn.Module):\n",
    "    def __init__(self, in_dim, out_dim, num_rels, act=F.relu, comp_op=\"sub\"):\n",
    "        super(CompGCNLayer, self).__init__()\n",
    "\n",
    "        self.in_dim = in_dim\n",
    "        self.out_dim = out_dim\n",
    "        self.num_rels = num_rels\n",
    "        self.act = act\n",
    "        self.comp_op = comp_op\n",
    "\n",
    "        # Linear transform cho node update\n",
    "        self.w_node = nn.Linear(in_dim, out_dim, bias=False)\n",
    "\n",
    "        # Relation transform\n",
    "        self.w_rel = nn.Linear(in_dim, out_dim, bias=False)\n",
    "\n",
    "        # Self loop\n",
    "        self.loop_weight = nn.Parameter(torch.Tensor(in_dim, out_dim))\n",
    "        nn.init.xavier_uniform_(self.loop_weight)\n",
    "\n",
    "        # Bias\n",
    "        self.bias = nn.Parameter(torch.zeros(out_dim))\n",
    "\n",
    "    def comp(self, h, r):\n",
    "        if self.comp_op == \"sub\":\n",
    "            return h - r\n",
    "        elif self.comp_op == \"mul\":\n",
    "            return h * r\n",
    "        elif self.comp_op == \"corr\":\n",
    "            return self.circular_correlation(h, r)\n",
    "        else:\n",
    "            raise NotImplementedError(\"Unknown composition operator\")\n",
    "\n",
    "    def circular_correlation(self, h, r):\n",
    "        fft_h = torch.fft.fft(h)\n",
    "        fft_r = torch.fft.fft(r)\n",
    "        return torch.real(torch.fft.ifft(fft_h * torch.conj(fft_r)))\n",
    "\n",
    "    def forward(self, x, edge_index, edge_type, rel_embed):\n",
    "        num_nodes = x.size(0)\n",
    "        num_edges = edge_index.size(1)\n",
    "\n",
    "        # Edge sources and targets\n",
    "        src, dst = edge_index\n",
    "\n",
    "        # Relation embedding for each edge\n",
    "        rel = rel_embed[edge_type]  # shape: [num_edges, dim]\n",
    "\n",
    "        # Compose src node with relation\n",
    "        comp_features = self.comp(x[src], rel)  # [num_edges, in_dim]\n",
    "\n",
    "        # Message passing: accumulate features to dst node\n",
    "        msg = torch.zeros((num_nodes, self.in_dim), device=x.device)\n",
    "        msg = msg.index_add(0, dst, comp_features)\n",
    "\n",
    "        # Self-loop contribution\n",
    "        loop_msg = torch.matmul(x, self.loop_weight)\n",
    "\n",
    "        # Final node update\n",
    "        out = self.w_node(msg) + loop_msg + self.bias\n",
    "        return self.act(out)\n",
    "\n",
    "\n",
    "class CompGCNModel(nn.Module):\n",
    "    def __init__(self, in_dim, hidden_dim, out_dim, num_rels, comp_op=\"sub\"):\n",
    "        super().__init__()\n",
    "        self.layer1 = CompGCNLayer(in_dim, hidden_dim, num_rels, act=F.relu, comp_op=comp_op)\n",
    "        self.layer2 = CompGCNLayer(hidden_dim, out_dim, num_rels, act=lambda x: x, comp_op=comp_op)\n",
    "\n",
    "    def forward(self, x, edge_index, edge_type, rel_embed):\n",
    "        x = self.layer1(x, edge_index, edge_type, rel_embed)\n",
    "        x = self.layer2(x, edge_index, edge_type, rel_embed)\n",
    "        return x  # Final node embeddings\n"
   ]
  },
  {
   "cell_type": "markdown",
   "id": "2c330b27",
   "metadata": {},
   "source": [
    "Chuẩn bị data: cặp (job, candidate, label)"
   ]
  },
  {
   "cell_type": "code",
   "execution_count": 2,
   "id": "fe798083",
   "metadata": {},
   "outputs": [],
   "source": [
    "import torch\n",
    "def create_train_pairs(edges_df, job_node_ids, candidate_node_ids, relation_has_exp):\n",
    "    pos_pairs = edges_df[edges_df['relation_id'] == relation_has_exp][['tail_node_id', 'head_node_id']].values\n",
    "    pos_labels = torch.ones(len(pos_pairs), dtype=torch.float)\n",
    "\n",
    "    # Sinh negative: chọn candidate khác chưa có quan hệ\n",
    "    import random\n",
    "    neg_pairs = []\n",
    "    for job_id, cand_id in pos_pairs:\n",
    "        while True:\n",
    "            neg_cand = random.choice(candidate_node_ids)\n",
    "            if not ((edges_df['head_node_id'] == job_id) & \n",
    "                    (edges_df['tail_node_id'] == neg_cand) &\n",
    "                    (edges_df['relation_id'] == relation_has_exp)).any():\n",
    "                neg_pairs.append((job_id, neg_cand))\n",
    "                break\n",
    "    neg_labels = torch.zeros(len(neg_pairs), dtype=torch.float)\n",
    "\n",
    "    all_pairs = torch.tensor(list(pos_pairs) + neg_pairs)\n",
    "    all_labels = torch.cat([pos_labels, neg_labels], dim=0)\n",
    "\n",
    "    return all_pairs, all_labels\n"
   ]
  },
  {
   "cell_type": "markdown",
   "id": "97824a8a",
   "metadata": {},
   "source": [
    "Loss"
   ]
  },
  {
   "cell_type": "code",
   "execution_count": 3,
   "id": "660ad69c",
   "metadata": {},
   "outputs": [],
   "source": [
    "import torch.nn.functional as F\n",
    "\n",
    "def cosine_loss(embeddings, pairs, labels):\n",
    "    job_emb = embeddings[pairs[:, 0]]\n",
    "    cand_emb = embeddings[pairs[:, 1]]\n",
    "\n",
    "    cos_sim = F.cosine_similarity(job_emb, cand_emb)\n",
    "    loss = F.binary_cross_entropy_with_logits(cos_sim, labels)\n",
    "    return loss\n"
   ]
  },
  {
   "cell_type": "markdown",
   "id": "b447a1bf",
   "metadata": {},
   "source": [
    "Training loop đơn giản"
   ]
  },
  {
   "cell_type": "code",
   "execution_count": null,
   "id": "41b1f563",
   "metadata": {},
   "outputs": [],
   "source": [
    "model = CompGCNModel(in_dim=768, hidden_dim=256, out_dim=128,\n",
    "                     num_rels=relation_embed_tensor.shape[0])\n",
    "optimizer = torch.optim.Adam(model.parameters(), lr=1e-3)\n",
    "\n",
    "for epoch in range(1):\n",
    "    model.train()\n",
    "    optimizer.zero_grad()\n",
    "\n",
    "    node_embeddings = model(x, edge_index, edge_type, relation_embed_tensor)\n",
    "    pairs, labels = create_train_pairs(edges_df, job_node_ids, candidate_node_ids)\n",
    "\n",
    "    loss = cosine_loss(node_embeddings, pairs, labels)\n",
    "    loss.backward()\n",
    "    optimizer.step()\n",
    "\n",
    "    print(f\"Epoch {epoch} | Loss: {loss.item():.4f}\")\n"
   ]
  }
 ],
 "metadata": {
  "kernelspec": {
   "display_name": "venv",
   "language": "python",
   "name": "python3"
  },
  "language_info": {
   "codemirror_mode": {
    "name": "ipython",
    "version": 3
   },
   "file_extension": ".py",
   "mimetype": "text/x-python",
   "name": "python",
   "nbconvert_exporter": "python",
   "pygments_lexer": "ipython3",
   "version": "3.12.3"
  }
 },
 "nbformat": 4,
 "nbformat_minor": 5
}
